{
  "cells": [
    {
      "cell_type": "markdown",
      "metadata": {
        "collapsed": false,
        "id": "m5Q2hnDC3NuL"
      },
      "source": [
        "# Zadanie domowe\n",
        "\n",
        "W przypadku obrazów w odcieniach szarości pojedynczy piksel z zakresu [0; 255] reprezentowany jest jako 8-bitowa liczba bez znaku.\n",
        "Pewnym rozszerzeniem analizy sposobu reprezentacji obrazu może być następujący eksperyment.\n",
        "Załóżmy, że z każdego z 8 bitów możemy stworzyć pojedynczy obraz binarny (ang. _bit-plane slicing_).\n",
        "Dla obrazka _100zloty.jpg_ (https://raw.githubusercontent.com/vision-agh/poc_sw/master/02_Point/100zloty.jpg) stwórz 8 obrazów, z których każdy powinien zawierać jedną płaszczyznę bitową.\n",
        "Podpowiedź $-$ warto sprawdzić, jak realizuje się bitowe operacje logiczne.\n",
        "Zastosowanie takiej dekompozycji obrazu pozwala na analizę ,,ważności'' poszczególnych bitów.\n",
        "Jest to użyteczne w kwantyzacji, ale także w kompresji.\n",
        "\n",
        "W drugim etapie zadania proszę spróbować odtworzyć obraz oryginalny z mniejszej liczby obrazów binarnych.\n",
        "Warto zacząć od dwóch najbardziej znaczących bitów, a później dodawać kolejne.\n",
        "Należy utworzyć co najmniej trzy wersje zrekonstruowanych obrazów.\n",
        "Podpowiedź $-$ rekonstrukcja obrazu to mnożenie przez odpowiednią potęgę liczby 2 (przesunięcie bitowe) oraz dodawanie."
      ]
    },
    {
      "cell_type": "code",
      "execution_count": 94,
      "metadata": {
        "id": "tsKtFztv4T2l"
      },
      "outputs": [],
      "source": [
        "import cv2\n",
        "import os\n",
        "import requests\n",
        "import matplotlib.pyplot as plt\n",
        "import numpy as np\n",
        "\n",
        "\n",
        "url = 'https://raw.githubusercontent.com/vision-agh/poc_sw/master/02_Point/'\n",
        "fileName = '100zloty.jpg'\n",
        "if not os.path.exists(fileName) :\n",
        "    r = requests.get(url + fileName, allow_redirects=True)\n",
        "    open(fileName, 'wb').write(r.content)"
      ]
    },
    {
      "cell_type": "code",
      "execution_count": 95,
      "metadata": {},
      "outputs": [],
      "source": [
        "def split_number_to_list_of_bits(number):\n",
        "    binary = '{0:08b}'.format(number)\n",
        "    lista = np.array([int(bit) << (7 - idx) for idx, bit in enumerate(binary)])\n",
        "    return lista\n",
        "\n",
        "\n",
        "img = cv2.imread(fileName)\n",
        "img = cv2.cvtColor(img, cv2.COLOR_RGB2GRAY)"
      ]
    },
    {
      "cell_type": "code",
      "execution_count": 96,
      "metadata": {},
      "outputs": [],
      "source": [
        "height = len(img)\n",
        "width = len(img[0])\n",
        "interpolation = 'antialiased'\n",
        "# interpolation = 'none'\n",
        "new_images = np.zeros((8, height, width))"
      ]
    },
    {
      "cell_type": "code",
      "execution_count": 97,
      "metadata": {},
      "outputs": [],
      "source": [
        "for r in range(height):\n",
        "    for c in range(width):\n",
        "        list_of_images = split_number_to_list_of_bits(img[r][c])\n",
        "        for i in range(len(list_of_images)):\n",
        "            new_images[i][r][c] = list_of_images[i]"
      ]
    },
    {
      "cell_type": "code",
      "execution_count": null,
      "metadata": {},
      "outputs": [],
      "source": [
        "for i in range(len(new_images)):\n",
        "    plt.imshow(new_images[i], interpolation=interpolation)\n",
        "    plt.gray()\n",
        "    plt.tick_params(left = False, right = False , labelleft = False , \n",
        "                labelbottom = False, bottom = False) \n",
        "    plt.show()"
      ]
    },
    {
      "cell_type": "code",
      "execution_count": 99,
      "metadata": {},
      "outputs": [],
      "source": [
        "two_most_important_bits = np.zeros((height, width))\n",
        "three_most_important_bits = np.zeros((height, width))\n",
        "four_most_important_bits = np.zeros((height, width))\n",
        "for r in range(height):\n",
        "    for c in range(width):\n",
        "        two_most_important_bits[r][c] = new_images[0][r][c] + new_images[1][r][c]\n",
        "        three_most_important_bits[r][c] = two_most_important_bits[r][c] + new_images[2][r][c]\n",
        "        four_most_important_bits[r][c] = three_most_important_bits[r][c] + new_images[3][r][c]"
      ]
    },
    {
      "cell_type": "code",
      "execution_count": null,
      "metadata": {},
      "outputs": [],
      "source": [
        "fig, axs = plt.subplots(2, 2, figsize=(10, 10))\n",
        "\n",
        "axs[0, 0].imshow(img, cmap='gray', interpolation=interpolation) \n",
        "axs[0, 1].imshow(four_most_important_bits, cmap='gray', interpolation=interpolation)\n",
        "axs[1, 0].imshow(three_most_important_bits, cmap='gray', interpolation=interpolation)\n",
        "axs[1, 1].imshow(two_most_important_bits, cmap='gray', interpolation=interpolation)\n",
        "\n",
        "axs[0, 0].set_title('Original')\n",
        "axs[0, 1].set_title('4 Most Important Bits')\n",
        "axs[1, 0].set_title('3 Most Important Bits')\n",
        "axs[1, 1].set_title('2 Most Important Bits')\n",
        "\n",
        "for ax in axs.flat:\n",
        "    ax.axis('off')\n",
        "\n",
        "plt.tight_layout()\n",
        "\n",
        "plt.show()"
      ]
    }
  ],
  "metadata": {
    "colab": {
      "provenance": []
    },
    "kernelspec": {
      "display_name": "Python 3",
      "language": "python",
      "name": "python3"
    },
    "language_info": {
      "codemirror_mode": {
        "name": "ipython",
        "version": 3
      },
      "file_extension": ".py",
      "mimetype": "text/x-python",
      "name": "python",
      "nbconvert_exporter": "python",
      "pygments_lexer": "ipython3",
      "version": "3.10.4"
    }
  },
  "nbformat": 4,
  "nbformat_minor": 0
}
