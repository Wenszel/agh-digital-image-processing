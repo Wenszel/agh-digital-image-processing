{
  "cells": [
    {
      "cell_type": "markdown",
      "metadata": {
        "id": "NnDX1AhkKHGr"
      },
      "source": [
        "# Przekształcenia morfologiczne\n",
        "\n",
        "## Cel:\n",
        "- zapoznanie z podstawowymi przekształceniami morfologicznymi – erozją, dylatacją, otwarciem, zamknięciem, transformacją trafi, nie trafi,\n",
        "- zapoznanie ze złożonymi operacjami morfologicznymi wykorzystującymi rekonstrukcję morfologiczną,\n",
        "- zapoznanie z operacjami morfologicznym dla obrazów w odcieniach szarości – erozją, dylatacją, otwarciem, zamknięciem, filtrami top-hat i bottom-hat,\n",
        "- zapoznanie z wykorzystaniem złożonych operacji morfologicznych przy rozwiązywaniu konkretnego problemu,\n",
        "- zadanie domowe: wykorzystanie morfologii do implementacji ,,gry w życie''."
      ]
    },
    {
      "cell_type": "markdown",
      "metadata": {
        "id": "CbPVOPm8KHGx"
      },
      "source": [
        "## Przypomnienie teorii\n",
        "\n",
        "### Element strukturalny\n",
        "\n",
        "Element strukturalny obrazu jest to pewien wycinek obrazu (przy dyskretnej reprezentacji obrazu – pewien podzbiór jego elementów).\n",
        "Najczęściej stosowanym elementem strukturalnym jest kwadratowa maska o rozmiarze 3×3 lub 5×5. Niekiedy pożądane są maski o innym kształcie, np. zbliżonym do elipsy.\n",
        "\n",
        "### Erozja\n",
        "\n",
        "Erozja (ang. _erosion_) jest podstawowym przekształceniem morfologicznym.\n",
        "Zakładamy, że obraz wyjściowy zawiera pewien obszar (figurę) X, wyróżniający się pewną charakterystyczną cechą (np. odróżniającą się od tła jasnością).\n",
        "Figura X po wykonaniu operacji erozji to zbiór punktów centralnych wszystkich elementów strukturalnych, które w całości mieszczą się we wnętrzu obszaru X.\n",
        "Miarą stopnia erozji jest wielkość elementu strukturalnego.\n",
        "\n",
        "**Erozję** można traktować jako **filtr minimalny**, tj. z danego otoczenia piksela (określanego przez maskę) do obrazu wynikowego wybierana jest wartość minimalna.\n",
        "\n",
        "### Dylatacja\n",
        "\n",
        "Dylatacja (ang. _dilation_): Zakładamy, że obraz wejściowy zawiera obszar X wyróżniający się pewną charakterystyczną cechą (np. jasnością). Figura przekształcona przez dylatacje to zbiór punktów centralnych wszystkich elementów strukturalnych, których którykolwiek punkt mieści sie we wnętrzu obszaru X. Miarą  dylatacji jest wielkość elementu strukturalnego.\n",
        "\n",
        "**Dylatację** można traktować jako **filtr maksymalny**, tj. z danego otoczenia piksela (określanego\n",
        "przez maskę) do obrazu wynikowego wybierana jest wartość maksymalna.\n",
        "\n",
        "### Otwarcie i zamknięcie\n",
        "\n",
        "Otwarcie (ang. _opening_) polega na wykonaniu najpierw operacji erozji, a następnie dylatacji.\n",
        "\n",
        "> Otwarcie = erozja + dylatacja\n",
        "\n",
        "Zamkniecie (ang. _closing_) polega na wykonaniu najpierw operacji dylatacji, a następnie erozji.\n",
        "\n",
        "> Zamkniecie = dylatacja + erozja\n",
        "\n",
        "### Obrazy w odcieniu szarości\n",
        "\n",
        "Obrazy w odcieniu szarości – detekcja dolin i szczytów (ang. _top-hat_, _bottom-hat_):\n",
        "\n",
        "Aby wyodrębnić z obrazu lokalne ekstrema można wykorzystać zdefiniowane wcześniej przekształcenia: otwarcie i zamkniecie.\n",
        "W celu wyszukania lokalnych maksimów (szczytów) należy od wyniku otwarcia danego obrazu odjąć obraz wyjściowy.\n",
        "Analogicznie, aby wyodrębnić lokalne minima obrazu, należy dokonać podobnej operacji, z tym że pierwszą operacją bedzie zamknięcie.\n",
        "Uwaga! Należy zwrócić uwagę, że poniższe metody służą do detekcji (pokreślenia) tylko lokalnych ekstremów!"
      ]
    },
    {
      "cell_type": "markdown",
      "metadata": {
        "id": "_mWYIIJBKHGz"
      },
      "source": [
        "## Podstawowe operacje morfologiczne: erozja, dylatacja, otwarcie, zamknięcie, trafi nie trafi\n"
      ]
    },
    {
      "cell_type": "code",
      "execution_count": 156,
      "metadata": {
        "id": "r375Q-2bKHG1"
      },
      "outputs": [],
      "source": [
        "import matplotlib.pyplot as plt\n",
        "import cv2\n",
        "import numpy as np\n",
        "import os\n",
        "import requests\n",
        "\n",
        "url = 'https://raw.githubusercontent.com/vision-agh/poc_sw/master/10_Morphology/'\n",
        "\n",
        "fileNames = [\"buzka.bmp\", \"calculator.bmp\", \"ertka.bmp\", \"ferrari.bmp\", \"fingerprint.bmp\", \"hom.bmp\", \"kolka.bmp\", \"kosc.bmp\", \"szkielet.bmp\", \"text.bmp\", \"wyspa.bmp\", \"rice.png\", \"gra.py\"]\n",
        "for fileName in fileNames:\n",
        "  if not os.path.exists(fileName):\n",
        "      r = requests.get(url + fileName, allow_redirects=True)\n",
        "      open(fileName, 'wb').write(r.content)\n"
      ]
    },
    {
      "cell_type": "code",
      "execution_count": 157,
      "metadata": {},
      "outputs": [],
      "source": [
        "def display_images(*imgs, title=\"\"):\n",
        "    num_images = len(imgs)\n",
        "    fig, axs = plt.subplots(1, num_images, figsize=(5 * num_images, 5))\n",
        "    if num_images == 1:\n",
        "        axs = [axs]\n",
        "    for ax, img in zip(axs, imgs):\n",
        "        ax.imshow(img, 'gray')\n",
        "        ax.axis('off')\n",
        "    fig.suptitle(title)\n",
        "    plt.show()"
      ]
    },
    {
      "cell_type": "markdown",
      "metadata": {},
      "source": [
        "1. Wczytaj obraz ertka.bmp"
      ]
    },
    {
      "cell_type": "code",
      "execution_count": 158,
      "metadata": {},
      "outputs": [],
      "source": [
        "ertka_img = cv2.imread(\"ertka.bmp\", cv2.IMREAD_GRAYSCALE)"
      ]
    },
    {
      "cell_type": "markdown",
      "metadata": {},
      "source": [
        "2. Wykonaj operację erozji `cv2.erode`. Parametrami funkcji są obraz oraz element strukturalny. Element można stworzyć samodzielnie jako tablicę składającą się z 0 i 1 `np.ones((3,3))` lub posłużyć się funkcją `cv2.getStructuringElement`, do której należy podać kształt `cv2.MORPH_RECT` oraz wielkość elementu `(3,3)`. Na początku użyj kwadratu o rozmiarze 3 pikseli.\n",
        "3. Wyświetl obraz oryginalny oraz po wykonaniu erozji – najlepiej na wspólnym wykresie. Upewnij się, że rozumiesz, jak działa erozja."
      ]
    },
    {
      "cell_type": "code",
      "execution_count": null,
      "metadata": {},
      "outputs": [],
      "source": [
        "ertka_erode_img = cv2.erode(ertka_img, cv2.getStructuringElement(cv2.MORPH_RECT, (3, 3)))\n",
        "display_images(ertka_img, ertka_erode_img, title=\"Erode MORPH_RECT 3x3\")"
      ]
    },
    {
      "cell_type": "markdown",
      "metadata": {},
      "source": [
        "4. Zmień element strukturalny (inny kształt – koło, diament lub inny rozmiar). Ponownie wykonaj erozję, sprawdź rezultat działania operacji."
      ]
    },
    {
      "cell_type": "code",
      "execution_count": null,
      "metadata": {},
      "outputs": [],
      "source": [
        "elipse_3_img = cv2.erode(ertka_img, cv2.getStructuringElement(cv2.MORPH_ELLIPSE, (3, 3)))\n",
        "display_images(ertka_img, elipse_3_img, title=\"Erode MORPH_ELLIPSE 3x3\")"
      ]
    },
    {
      "cell_type": "markdown",
      "metadata": {},
      "source": [
        "5. Oprócz zmiany elementu strukturalnego na rezultat erozji można wpłynąć zwiększając liczbę iteracji (np. wykonać erozję trzykrotnie). Ustal element strukturalny na kwadrat o boku 3 piksele. Wykonaj erozję obrazu _ertka_ dwukrotnie, a następnie trzykrotnie. Zaobserwuj rezultaty. Wskazówka: warto zajrzeć do dokumentacji funkcji `erode`."
      ]
    },
    {
      "cell_type": "code",
      "execution_count": null,
      "metadata": {},
      "outputs": [],
      "source": [
        "rect_3_img_iter_2 = cv2.erode(ertka_img, cv2.getStructuringElement(cv2.MORPH_RECT, (3, 3)), iterations=2)\n",
        "rect_3_img_iter_3 = cv2.erode(ertka_img, cv2.getStructuringElement(cv2.MORPH_RECT, (3, 3)), iterations=3)\n",
        "display_images(ertka_img, rect_3_img_iter_2, rect_3_img_iter_3, title=\"Erode MORPH_RECT 3x3 with 2 and 3 iterations\")"
      ]
    },
    {
      "cell_type": "markdown",
      "metadata": {},
      "source": [
        "6. Wczytaj obraz buzka.bmp. Dobierz element strukturalny (zdefiniuj go ręcznie jako macierz 0 i 1) w taki sposób, aby usunąć włosy o określonej orientacji (ukośnie lewo lub prawo).\n",
        "7. Uwaga: pokazane metody wpływania na rezultaty erozji wykorzystuje się identycznie dla pozostałych operacji morfologicznych – dylatacji, otwarcia i zamknięcia."
      ]
    },
    {
      "cell_type": "code",
      "execution_count": null,
      "metadata": {},
      "outputs": [],
      "source": [
        "buzka_img = cv2.imread(\"buzka.bmp\", cv2.IMREAD_GRAYSCALE)\n",
        "structural_element = np.array([[0, 1, 0], [1, 1, 1], [0, 1, 0]], np.uint8)\n",
        "buzka_erode = cv2.erode(buzka_img, structural_element)\n",
        "display_images(buzka_img, buzka_erode, title=\"Removed hair from buzka.bmp using custom structural element\")"
      ]
    },
    {
      "cell_type": "markdown",
      "metadata": {},
      "source": [
        "8. Operacją odwrotną do erozji jest dylatacja `cv2.dilate`. Ustal element strukturalny na kwadrat o boku 3 piksele. Wykonaj dylatację obrazu _ertka_. Zapoznaj się z rezultatem działania."
      ]
    },
    {
      "cell_type": "code",
      "execution_count": null,
      "metadata": {},
      "outputs": [],
      "source": [
        "dilate_ertka = cv2.dilate(ertka_img, cv2.getStructuringElement(cv2.MORPH_RECT, (3, 3)))\n",
        "display_images(ertka_img, dilate_ertka, title=\"Dilate MORPH_RECT 3x3\")\n"
      ]
    },
    {
      "cell_type": "markdown",
      "metadata": {},
      "source": [
        "9. Na wspólnym wykresie wyświetl obraz oryginalny oraz obrazy po operacjach morfologicznych: erozja, dylatacja, otwarcie i zamkniecie. Otwarcie i zamknięcie można uzyskać za pomocą `cv2.morphologyEx(img, operacja, element_strukturalny)`, gdzie typem operacji jest `cv2.MORPH_OPEN` lub `cv2.MORPH_CLOSE`."
      ]
    },
    {
      "cell_type": "code",
      "execution_count": null,
      "metadata": {},
      "outputs": [],
      "source": [
        "close_ertka = cv2.morphologyEx(ertka_img, cv2.MORPH_CLOSE, cv2.getStructuringElement(cv2.MORPH_RECT, (3, 3)))\n",
        "open_ertka = cv2.morphologyEx(ertka_img, cv2.MORPH_OPEN, cv2.getStructuringElement(cv2.MORPH_RECT, (3, 3)))\n",
        "display_images(ertka_img, ertka_erode_img, close_ertka, dilate_ertka, open_ertka, title=\"Input - Erode - Dilate - Close - Open\")"
      ]
    },
    {
      "cell_type": "markdown",
      "metadata": {},
      "source": [
        "10. Zmień obraz _ertka_ na _wyspa_, a następnie na _kolka_. Wykonaj na każdym cztery przedstawione operacje morfologiczne. Zaobserwuj rezultaty."
      ]
    },
    {
      "cell_type": "code",
      "execution_count": null,
      "metadata": {},
      "outputs": [],
      "source": [
        "wyspa_img = cv2.imread(\"wyspa.bmp\", cv2.IMREAD_GRAYSCALE)\n",
        "wyspa_erode = cv2.erode(wyspa_img, cv2.getStructuringElement(cv2.MORPH_RECT, (3, 3)))\n",
        "wyspa_dilate = cv2.dilate(wyspa_img, cv2.getStructuringElement(cv2.MORPH_RECT, (3, 3)))\n",
        "wyspa_open = cv2.morphologyEx(wyspa_img, cv2.MORPH_OPEN, cv2.getStructuringElement(cv2.MORPH_RECT, (3, 3)))\n",
        "wyspa_close = cv2.morphologyEx(wyspa_img, cv2.MORPH_CLOSE, cv2.getStructuringElement(cv2.MORPH_RECT, (3, 3)))\n",
        "display_images(wyspa_img, wyspa_erode, wyspa_dilate, wyspa_open, wyspa_close, title=\"Input - Erode - Dilate - Open - Close\")"
      ]
    },
    {
      "cell_type": "code",
      "execution_count": null,
      "metadata": {},
      "outputs": [],
      "source": [
        "kolka_img = cv2.imread(\"kolka.bmp\", cv2.IMREAD_GRAYSCALE)\n",
        "kolka_erode = cv2.erode(kolka_img, cv2.getStructuringElement(cv2.MORPH_RECT, (3, 3)))\n",
        "kolka_dilate = cv2.dilate(kolka_img, cv2.getStructuringElement(cv2.MORPH_RECT, (3, 3)))\n",
        "kolka_open = cv2.morphologyEx(kolka_img, cv2.MORPH_OPEN, cv2.getStructuringElement(cv2.MORPH_RECT, (3, 3)))\n",
        "kolka_close = cv2.morphologyEx(kolka_img, cv2.MORPH_CLOSE, cv2.getStructuringElement(cv2.MORPH_RECT, (3, 3)))\n",
        "display_images(kolka_img, kolka_erode, kolka_dilate, kolka_open, kolka_close, title=\"Input - Erode - Dilate - Open - Close\")"
      ]
    },
    {
      "cell_type": "markdown",
      "metadata": {},
      "source": [
        "\n",
        "11. Minizadanko: wykorzystując poznane operacje morfologiczne spowoduj, że na obrazie _ertka_ pozostanie tylko napis RT (bez wypustek i dziur)."
      ]
    },
    {
      "cell_type": "code",
      "execution_count": null,
      "metadata": {},
      "outputs": [],
      "source": [
        "r1 = cv2.erode(ertka_img, cv2.getStructuringElement(cv2.MORPH_RECT, (3, 3)))\n",
        "r2 = cv2.dilate(r1, cv2.getStructuringElement(cv2.MORPH_RECT, (5, 5)))\n",
        "display_images(ertka_img, r1, r2, title=\"Transform ertka.bmp to full ER\")"
      ]
    },
    {
      "cell_type": "markdown",
      "metadata": {},
      "source": [
        "\n",
        "12. Niekiedy potrzebne jest wykrycie konkretnych konfiguracji pikseli na obrazie – przydaje się do tego transformacja trafi, nie trafi (ang. _hit-or-miss_). Pozwala ona wykryć na obrazie obecność elementów, które dokładnie odpowiadają masce.\n",
        "13. Wczytaj obraz hom.bmp. Wyświetl go. Załóżmy, że chcemy wykryć na obrazie krzyżyki 3x3. Zdefiniuj następujący element strukturalny:\n",
        "```\n",
        "[0,1,0]\n",
        "[1,1,1]\n",
        "[0,1,0]\n",
        "```\n",
        "Wykonaj transformację trafi, nie trafi – `cv2.morphologyEx(hom, cv2.MORPH_HITMISS, se1)`. Rezultat operacji wyświetl. Czy udało się zrealizować zadanie? Jeżeli pojawiają się u Państwa błędy związane z typem danych, należy obraz wejściowy przekonwertować na skalę szarości: `cv2.cvtColor(hom, cv2.COLOR_BGR2GRAY)`."
      ]
    },
    {
      "cell_type": "code",
      "execution_count": null,
      "metadata": {},
      "outputs": [],
      "source": [
        "hom_img = cv2.imread(\"hom.bmp\", cv2.IMREAD_GRAYSCALE)\n",
        "find_cross_struct = np.array([[0, 1, 0], [1, 1, 1], [0, 1, 0]], np.uint8)\n",
        "found_cross = cv2.morphologyEx(hom_img, cv2.MORPH_HITMISS, find_cross_struct)\n",
        "display_images(hom_img, found_cross, title=\"Hit or miss operation on hom.bmp\")"
      ]
    },
    {
      "cell_type": "markdown",
      "metadata": {
        "id": "QgLQKgtvKHG2"
      },
      "source": [
        "## Inne operacje morfologiczne\n",
        "Do innych operacji morfologicznych należą między innymi ścienianie (ang. _thinning_), szkieletyzacja (ang. _skeletonization_), rekonstrukcja morfologiczna (ang. _morphological reconstruction_), czyszczenie brzegu (ang. _clearing border_) i uzupełnianie dziur (ang. _filling holes_). W tym rozdziale zostanie zaprezentowana rekonstrukcja morfologiczna.\n",
        "\n",
        "Rekonstrukcja morfologiczna jest operacją trójargumentową. Wymaga podania markera (obrazu, od którego zacznie się transformacja), maski (ograniczenia transformacji) oraz elementu strukturalnego. Operacja polega na wykonywaniu kroków (dopóki w dwóch kolejnych iteracjach nic się nie zmieni):\n",
        "- dylatacja obrazu markera (z danym elementem strukturalnym),\n",
        "- nowy marker = część wspólna dylatacji starego markera i maski.\n",
        "\n",
        "Trzy operacje, które wykorzystują schemat rekonstrukcji to:\n",
        "- otwarcie poprzez rekonstrukcję,\n",
        "- wypełnianie dziur,\n",
        "- czyszczenie brzegu.\n",
        "\n",
        "### Otwarcie poprzez rekonstrukcję:\n",
        "- Wczytaj obraz text.bmp, wyświetl go.\n",
        "- Załóżmy, że chcemy wykryć na obrazie litery, które zawierają długie pionowe fragmenty. W pierwszym podejściu stosujemy morfologiczne otwarcie z maską pionową o wysokości 51 pikseli (taka jest średnia wysokość liter na obrazie – `np.ones((51,1))`. Sprawdź rezultat takiej operacji.\n",
        "- Detekcja wprawdzie sie udała, ale otrzymujemy tylko pionowe kreski.\n",
        "- Rozwiązaniem jest rekonstrukcja – jako marker wybieramy obraz oryginalny poddany erozji. Maskę stanowi obraz oryginalny. Samodzielnie dobierz element strukturalny.\n",
        "- Zaimplementuj rekonstrukcję i porównaj efekt otwarcia i rekonstrukcji.\n"
      ]
    },
    {
      "cell_type": "code",
      "execution_count": 169,
      "metadata": {},
      "outputs": [],
      "source": [
        "def morphological_reconstruction(marker, mask):\n",
        "    prev_marker = np.zeros_like(marker)\n",
        "    kernel = np.ones((3, 3), np.uint8)  \n",
        "    while not np.array_equal(marker, prev_marker):  \n",
        "        prev_marker = marker.copy()\n",
        "        marker = cv2.dilate(marker, kernel)\n",
        "        marker = np.minimum(marker, mask)  \n",
        "    return marker"
      ]
    },
    {
      "cell_type": "code",
      "execution_count": null,
      "metadata": {
        "id": "6oy1-pqdKHG3"
      },
      "outputs": [],
      "source": [
        "text_img = cv2.imread(\"text.bmp\")\n",
        "find_vertical_elements_img = cv2.morphologyEx(text_img, cv2.MORPH_OPEN, np.ones((51, 1)))\n",
        "reconstructed_img = morphological_reconstruction(find_vertical_elements_img, text_img)\n",
        "display_images(text_img, find_vertical_elements_img, reconstructed_img, title=\"Text.bmp - vertical elements - reconstructed\")"
      ]
    },
    {
      "cell_type": "markdown",
      "metadata": {
        "id": "x_irwB7fKHG3"
      },
      "source": [
        "## Operacje morfologiczne dla obrazów w skali szarości\n",
        "\n",
        "Wszystkie dotychczasowe operacje (oprócz transformacji trafi, nie trafi) mają swoje odpowieniki dla obrazów w skali szarości. Konieczne jest tylko podanie definicji erozji i dylatacji w nieco innej formie:\n",
        "- Erozja – filtr minimalny.\n",
        "- Dylatacja – filtr maksymalny.\n",
        "\n",
        "\n",
        "1. Wczytaj obraz ferrari.bmp i wykonaj operacje morfologiczne: erozję i dylatację. Element strukturalny ustal na kwadrat 3×3. Oblicz też różnicę pomiędzy obrazem po dylatacji a po erozji – czyli tzw. gradient morfologiczny. Rezultaty wyświetl na wspólnym wykresie."
      ]
    },
    {
      "cell_type": "code",
      "execution_count": null,
      "metadata": {
        "id": "jmp6zrXkKHG4",
        "pycharm": {
          "name": "#%%\n"
        }
      },
      "outputs": [],
      "source": [
        "ferrari_img = cv2.imread(\"ferrari.bmp\", cv2.IMREAD_GRAYSCALE)\n",
        "erode_ferrari = cv2.erode(ferrari_img, cv2.getStructuringElement(cv2.MORPH_RECT, (3, 3)))\n",
        "dilate_ferrari = cv2.dilate(ferrari_img, cv2.getStructuringElement(cv2.MORPH_RECT, (3, 3)))\n",
        "morphological_gradient_ferrari = np.abs(dilate_ferrari - erode_ferrari)\n",
        "display_images(ferrari_img, erode_ferrari, dilate_ferrari, morphological_gradient_ferrari, title=\"Input - Erode - Dilate - Morphological gradient\")\n"
      ]
    },
    {
      "cell_type": "markdown",
      "metadata": {},
      "source": [
        "\n",
        "2. Otwarcie to tłumienie jasnych detali na obrazie. Zamkniecie to tłumienie ciemnych detali na obrazie. Potwierdź powyższe stwierdzenia wykonując obie operacje na obrazie _ferrari_."
      ]
    },
    {
      "cell_type": "code",
      "execution_count": null,
      "metadata": {},
      "outputs": [],
      "source": [
        "open_ferrari = cv2.morphologyEx(ferrari_img, cv2.MORPH_OPEN, cv2.getStructuringElement(cv2.MORPH_RECT, (3, 3)))\n",
        "close_ferrari = cv2.morphologyEx(ferrari_img, cv2.MORPH_CLOSE, cv2.getStructuringElement(cv2.MORPH_RECT, (3, 3)))\n",
        "display_images(ferrari_img, open_ferrari, close_ferrari, title=\"Input - Open - Close\")"
      ]
    },
    {
      "cell_type": "markdown",
      "metadata": {},
      "source": [
        "\n",
        "3. Wykonaj operacje top-hat i bottom-hat `cv2.morphologyEx(img, cv2.MORPH_TOPHAT, strel)` oraz `cv2.morphologyEx(img, cv2.MORPH_BLACKHAT, strel)` na obrazie _ferrari_. Jakie obszary udało sie wykryć za pomocą tej operacji? Z jakich operacji składa sie filtr top-hat?"
      ]
    },
    {
      "cell_type": "code",
      "execution_count": null,
      "metadata": {},
      "outputs": [],
      "source": [
        "tophat_ferrari = cv2.morphologyEx(ferrari_img, cv2.MORPH_TOPHAT, cv2.getStructuringElement(cv2.MORPH_RECT, (3, 3)))\n",
        "bottomhat_ferrari = cv2.morphologyEx(ferrari_img, cv2.MORPH_BLACKHAT, cv2.getStructuringElement(cv2.MORPH_RECT, (3, 3)))\n",
        "display_images(ferrari_img, tophat_ferrari, bottomhat_ferrari, title=\"Input - Top hat - Bottom hat\")"
      ]
    },
    {
      "cell_type": "markdown",
      "metadata": {},
      "source": [
        "TopHat składa się z operacji różnicy między obrazem oryginalnym a obrazem po operacji otwarcia.\n"
      ]
    },
    {
      "cell_type": "markdown",
      "metadata": {},
      "source": [
        "\n",
        "4. Wczytaj obraz rice.png (z laboratorium o binaryzacji). Wyświetl go. Zwróć uwage na niejednorodne oświetlenie. Wykonaj operacje top-hat z dużym elementem strukturalnym (np. koło o rozmiarze 10) na tym obrazie. Wynik wyświetl. Co stało się z niejednorodnością oświetlenia?"
      ]
    },
    {
      "cell_type": "code",
      "execution_count": null,
      "metadata": {},
      "outputs": [],
      "source": [
        "rice_img = cv2.imread(\"rice.png\", cv2.IMREAD_GRAYSCALE)\n",
        "rice_open = cv2.morphologyEx(rice_img, cv2.MORPH_OPEN, cv2.getStructuringElement(cv2.MORPH_RECT, (10, 10)))\n",
        "top_hat_rice = cv2.morphologyEx(rice_img, cv2.MORPH_TOPHAT, cv2.getStructuringElement(cv2.MORPH_RECT, (10, 10)))\n",
        "display_images(rice_img, rice_open, top_hat_rice, title=\"Rice.png - Open - Top hat\")"
      ]
    },
    {
      "cell_type": "markdown",
      "metadata": {
        "id": "qIwoiXs-KHG4"
      },
      "source": [
        "## Przykład zastosowania morfologii\n",
        "\n",
        "1. Wczytaj obraz calculator.bmp. Wyświetl go. Zadanie do realizacji: wyizolować tekst na klawiszach kalkulatora."
      ]
    },
    {
      "cell_type": "code",
      "execution_count": null,
      "metadata": {
        "id": "DIy6L9S7KHG5",
        "pycharm": {
          "name": "#%%\n"
        }
      },
      "outputs": [],
      "source": [
        "calculator_img = cv2.imread(\"calculator.bmp\", cv2.IMREAD_GRAYSCALE)\n",
        "display_images(calculator_img, title=\"Calculator.bmp\")"
      ]
    },
    {
      "cell_type": "markdown",
      "metadata": {},
      "source": [
        "\n",
        "2. W pierwszym kroku usunięte zostaną poziome odbicia znajdujące się na górnej krawędzi każdego z klawiszy. Wykorzystamy fakt, że odbicie jest dłuższe niż jakikolwiek pojedynczy znak. Wykonujemy otwarcie przez rekonstrukcję (można wykorzystać kod z wcześniejszego zadania, ale tym razem mamy do czynienia z obrazem w skali szarości zamiast z binarnym – proszę się zastanowić, jaka operacja jest odpowiednikiem operacji AND?):\n",
        "  - początkowo wykonujemy erozję z elementem strukturalnym w postaci poziomej linii — `np.ones((1,71))`,\n",
        "  - następnie dokonujemy rekonstrukcji: marker – obraz po erozji, maska – obraz oryginalny,\n",
        "  - wynik operacji wyświetl. Dla porównania wyświetl wynik klasycznego otwarcia z takim samym elementem strukturalnym. W czym otwarcie przez rekonstrukcję jest lepsze od klasycznego?"
      ]
    },
    {
      "cell_type": "code",
      "execution_count": null,
      "metadata": {},
      "outputs": [],
      "source": [
        "erode_calculator = cv2.erode(calculator_img, cv2.getStructuringElement(cv2.MORPH_RECT, (71, 1)))\n",
        "reconstructed_img_calculator = morphological_reconstruction(erode_calculator, calculator_img)\n",
        "display_images(calculator_img, erode_calculator, reconstructed_img_calculator, title=\"Input - Erode - Reconstruction on calculator.bmp\")\n"
      ]
    },
    {
      "cell_type": "markdown",
      "metadata": {},
      "source": [
        "\n",
        "3. W poprzednim kroku (tj. w wyniku otwarcia przez rekonstrukcję) uzyskaliśmy obraz tła. Należy go teraz odjąć od obrazu oryginalnego. Ten rodzaj operacji można nazwać top-hat poprzez rekonstrukcję. Wynik wyświetl. Dla porównania wyświetl wynik klasycznej operacji top-hat – różnicy miedzy obrazem oryginalnym a obrazem po klasycznym otwarciu."
      ]
    },
    {
      "cell_type": "code",
      "execution_count": null,
      "metadata": {},
      "outputs": [],
      "source": [
        "diff_calc = cv2.absdiff(calculator_img, reconstructed_img_calculator)\n",
        "tophat_calc = cv2.morphologyEx(calculator_img, cv2.MORPH_TOPHAT, cv2.getStructuringElement(cv2.MORPH_RECT, (71, 1)))\n",
        "display_images(calculator_img, diff_calc, tophat_calc, title=\"Input - Difference - Top hat on calculator.bmp\")"
      ]
    },
    {
      "cell_type": "markdown",
      "metadata": {},
      "source": [
        "\n",
        "4. W podobny sposób należy zlikwidować odblaski pionowe:\n",
        "  - erozja z elementem strukturalnym w postaci poziomej linii – `np.ones((1,11))` – zostaną zachowane wszystkie znaki (bo prawie wszystkie są szersze). Uwaga. Operacje wykonujemy na uzyskanym w kroku 3 rezultacie odjęcia od obrazu oryginalnego, obrazu po rekonstrukcji.\n",
        "  - rekonstrukcja: marker – obraz po erozji, maska – obraz z punktu 3 (różnica oryginalnego i tła),\n",
        "  - wynik wyświetl."
      ]
    },
    {
      "cell_type": "code",
      "execution_count": null,
      "metadata": {},
      "outputs": [],
      "source": [
        "erode_vertical_calc = cv2.erode(diff_calc, cv2.getStructuringElement(cv2.MORPH_RECT, (1, 11)), iterations=1)\n",
        "reconstructed_img_vertical_calc = morphological_reconstruction(erode_vertical_calc, diff_calc)\n",
        "display_images(diff_calc, erode_vertical_calc, reconstructed_img_vertical_calc, title=\"Difference - Erode - Reconstruction on calculator.bmp\")"
      ]
    },
    {
      "cell_type": "markdown",
      "metadata": {},
      "source": [
        "\n",
        "5. Rezultat jest niemal satysfakcjonujący, ale wystąpił problem z cienkimi pionowymi elementami napisów – np. I na klawiszu ASIN. Wykorzystując fakt, że usunięte znaki znajdują się w bezpośrednim sąsiedztwie istniejących znaków wykonujemy następujące operacje:\n",
        "  - dylatacja z elementem `np.ones((1,21))`,\n",
        "  - rekonstrukcja z markerem w postaci – minimum(obraz po dylatacji z punktu powyżej, obraz uzyskany w punkcie 3, tj. różnica oryginalnego i tła) oraz maską – obraz z pkt. 3.\n",
        "6. Rezultat wyświetl. Czy za pomocą zaproponowanych operacji udało się uzyskać zamierzony efekt – ekstrakcję napisów?"
      ]
    },
    {
      "cell_type": "code",
      "execution_count": null,
      "metadata": {},
      "outputs": [],
      "source": [
        "dilate = cv2.dilate(reconstructed_img_vertical_calc, cv2.getStructuringElement(cv2.MORPH_RECT, (1, 21)))\n",
        "result = morphological_reconstruction(np.minimum(dilate, diff_calc), diff_calc)\n",
        "display_images(dilate, result)\n"
      ]
    }
  ],
  "metadata": {
    "celltoolbar": "Raw Cell Format",
    "colab": {
      "provenance": []
    },
    "kernelspec": {
      "display_name": "Python 3",
      "language": "python",
      "name": "python3"
    },
    "language_info": {
      "codemirror_mode": {
        "name": "ipython",
        "version": 3
      },
      "file_extension": ".py",
      "mimetype": "text/x-python",
      "name": "python",
      "nbconvert_exporter": "python",
      "pygments_lexer": "ipython3",
      "version": "3.10.4"
    }
  },
  "nbformat": 4,
  "nbformat_minor": 0
}
